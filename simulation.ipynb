{
 "cells": [
  {
   "cell_type": "code",
   "execution_count": 1,
   "metadata": {},
   "outputs": [
    {
     "data": {
      "application/vnd.jupyter.widget-view+json": {
       "model_id": "6dbf1d04785a4028815f30af7b2ed74d",
       "version_major": 2,
       "version_minor": 0
      },
      "text/plain": [
       "  0%|          | 0/10001 [00:00<?, ?it/s]"
      ]
     },
     "metadata": {},
     "output_type": "display_data"
    }
   ],
   "source": [
    "import numpy as np\n",
    "import numexpr as ne\n",
    "from numba import njit\n",
    "import matplotlib.pyplot as plt\n",
    "import matplotlib.animation as animation\n",
    "%matplotlib qt5\n",
    "%reload_ext autoreload\n",
    "%autoreload 2\n",
    "\n",
    "import verlet as vl\n",
    "\n",
    "\n",
    "init_row_len = 32\n",
    "init_col_len = 32\n",
    "num_objs = init_row_len * init_col_len\n",
    "masses = np.ones(num_objs)\n",
    "walls = np.array([(-8, 8), (-8, 8), (-8, 8)])\n",
    "x_pos_offset = (walls[0, 1] - walls[0, 0])/(init_row_len + 1)/2\n",
    "y_pos_offset = (walls[1, 1] - walls[1, 0])/(init_col_len + 1)/2\n",
    "rand_offset_factor = 0.1\n",
    "vel_init = 0\n",
    "initial_positions = np.zeros((num_objs, 3))\n",
    "initial_velocities = np.zeros((num_objs, 3))\n",
    "initial_positions[:, 0:2] = \\\n",
    "    np.stack(\n",
    "        np.meshgrid(\n",
    "            np.linspace(walls[0, 0] + 0*x_pos_offset, \n",
    "                        walls[0, 1] - 0*x_pos_offset, init_row_len), \n",
    "            np.linspace(walls[1, 0] + 0*y_pos_offset, \n",
    "                        walls[1, 1] - 0*y_pos_offset, init_col_len)), 2\n",
    "    ).reshape(-1, 2) + np.hstack((\n",
    "        np.random.uniform(\n",
    "            -x_pos_offset * rand_offset_factor, \n",
    "            x_pos_offset * rand_offset_factor, \n",
    "            (num_objs, 1)\n",
    "        ), np.random.uniform(\n",
    "            -y_pos_offset * rand_offset_factor, \n",
    "            y_pos_offset * rand_offset_factor, \n",
    "            (num_objs, 1))))\n",
    "initial_velocities[:, 0:2] = np.random.normal(0, vel_init, (num_objs, 2)) #np.array([[vel_init, 0]]).repeat(num_objs, 0)\n",
    " \n",
    "total_time = 1\n",
    "dt = 0.0001\n",
    "\n",
    "def accel(mass, position, velocity, dt=dt):\n",
    "    accel1 = vl.accel_intermolecular(\n",
    "        mass=mass, position=position, velocity=velocity, V_LJ=1, r_m=1\n",
    "    ) \n",
    "    accel2 = vl.accel_softwalls(\n",
    "        mass=mass, position=position, velocity=velocity, dt=dt, \n",
    "        dt_per_period=8, walls=((-8, 8), (-8, 8), (-8, 8))\n",
    "    )\n",
    "    return accel1 + accel2\n",
    "\n",
    "positions_over_time, velocities_over_time = vl.integrate_verlet(\n",
    "    masses, initial_positions, initial_velocities, \n",
    "    total_time, dt)\n",
    "num_steps = positions_over_time.shape[0]\n",
    "steps = np.arange(num_steps)\n",
    "times = steps * dt"
   ]
  },
  {
   "cell_type": "code",
   "execution_count": 2,
   "metadata": {},
   "outputs": [],
   "source": [
    "k_B = 1.380649e-23\n",
    "V_LJ_to_Joules = 1.65e-21\n",
    "temperature = (\n",
    "    masses * (velocities_over_time**2).sum(axis=2)\n",
    ").mean(axis=1) * 0.5 * V_LJ_to_Joules * 2 / 3 / k_B"
   ]
  },
  {
   "cell_type": "code",
   "execution_count": 3,
   "metadata": {},
   "outputs": [],
   "source": [
    "fig, ax = plt.subplots(1, 1, figsize=(8, 8))\n",
    "cmap = plt.cm.CMRmap\n",
    "norm = plt.Normalize(vmin=0, vmax=(num_objs - 1) * 1.5)\n",
    "min_step_to_plot = int(0.5 * total_time / dt)\n",
    "max_step_to_plot = int(0.6 * total_time / dt)\n",
    "for step in steps[min_step_to_plot:max_step_to_plot:1]:\n",
    "    ax.scatter(\n",
    "        positions_over_time[step, :, 0], \n",
    "        positions_over_time[step, :, 1], \n",
    "        color=cmap(norm(np.arange(num_objs))),\n",
    "        alpha=(\n",
    "            (step - min_step_to_plot)/(max_step_to_plot - min_step_to_plot)\n",
    "        ) * 0.9 + 0.1)\n",
    "ax.axvline(-8)\n",
    "ax.axvline(8)\n",
    "ax.axhline(-8)\n",
    "ax.axhline(8)\n",
    "ax.set_xlim(-9, 9)\n",
    "ax.set_ylim(-9, 9)\n",
    "ax.set_aspect('equal')\n",
    "fig.show()"
   ]
  },
  {
   "cell_type": "code",
   "execution_count": 5,
   "metadata": {},
   "outputs": [],
   "source": [
    "fig2, ax2 = plt.subplots(1, 2, figsize=(16, 8))\n",
    "\n",
    "ax2[0].set_xlim(-9, 9)\n",
    "ax2[0].set_ylim(-9, 9)\n",
    "ax2[0].set_aspect('equal')  \n",
    "ax2[0].axvline(-8)\n",
    "ax2[0].axvline(8)\n",
    "ax2[0].axhline(-8)\n",
    "ax2[0].axhline(8)\n",
    "scat = ax2[0].scatter(positions_over_time[0, :, 0], \n",
    "                positions_over_time[0, :, 1], \n",
    "                color=cmap(norm(np.arange(num_objs))),\n",
    "                #alpha=step/max_step_to_plot)\n",
    ")\n",
    "\n",
    "ax2[1].set_xlim(0, (num_steps + 1) * dt)\n",
    "ax2[1].set_ylim(0, temperature.max() * 1.05)\n",
    "line2, = ax2[1].plot(times[:1], temperature[:1], zorder=1)\n",
    "scat2 = ax2[1].scatter(times[0], temperature[0], color='orange', zorder=2)\n",
    "\n",
    "def update_plot(i):\n",
    "    scat.set_offsets(np.c_[positions_over_time[i, :, 0], \n",
    "                positions_over_time[i, :, 1]])\n",
    "    line2.set_data(times[:i+1], temperature[:i+1])\n",
    "    scat2.set_offsets(np.c_[times[i], temperature[i]])\n",
    "                #, \n",
    "                #color=cmap(norm(np.arange(num_objs))),\n",
    "                #alpha=step/max_step_to_plot)\n",
    "    \n",
    "\n",
    "ani = animation.FuncAnimation(fig2, update_plot, \n",
    "                              frames=range(0, int(num_steps), 10),\n",
    "                              interval=1000/60)\n",
    "ani.save('sim.gif', writer='ffmpeg', fps=60)\n",
    "fig2.show()"
   ]
  },
  {
   "cell_type": "code",
   "execution_count": null,
   "metadata": {},
   "outputs": [],
   "source": []
  }
 ],
 "metadata": {
  "kernelspec": {
   "display_name": "base",
   "language": "python",
   "name": "python3"
  },
  "language_info": {
   "codemirror_mode": {
    "name": "ipython",
    "version": 3
   },
   "file_extension": ".py",
   "mimetype": "text/x-python",
   "name": "python",
   "nbconvert_exporter": "python",
   "pygments_lexer": "ipython3",
   "version": "3.8.18"
  },
  "orig_nbformat": 4
 },
 "nbformat": 4,
 "nbformat_minor": 2
}
